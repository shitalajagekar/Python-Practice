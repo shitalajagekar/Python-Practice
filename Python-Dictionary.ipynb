{
    "cells": [
        {
            "metadata": {
                "collapsed": true
            },
            "cell_type": "markdown",
            "source": "# Python Dictionary"
        },
        {
            "metadata": {},
            "cell_type": "markdown",
            "source": "### 1. Each key is separated from its value by a colon (:), the items are separated by commas, and the whole thing is enclosed in curly braces.\n### 2. An empty dictionary without any items is written with just two curly braces, like this: {}.\n### 3. Keys are unique within a dictionary while values may not be.\n### 4. The values of a dictionary can be of any type, but the keys must be of an immutable data type such as strings, numbers, or tuples.\n"
        },
        {
            "metadata": {},
            "cell_type": "code",
            "source": "person={\"name\":\"shital\",\"age\":31,\"gender\":\"Female\"}\nprint(person[\"name\"])",
            "execution_count": 2,
            "outputs": [
                {
                    "output_type": "stream",
                    "text": "shital\n",
                    "name": "stdout"
                }
            ]
        },
        {
            "metadata": {},
            "cell_type": "markdown",
            "source": "### 5. updating Dictionary"
        },
        {
            "metadata": {},
            "cell_type": "code",
            "source": "person[\"education\"]=\"ME\" ",
            "execution_count": 5,
            "outputs": []
        },
        {
            "metadata": {},
            "cell_type": "code",
            "source": "print(person)",
            "execution_count": 6,
            "outputs": [
                {
                    "output_type": "stream",
                    "text": "{'name': 'shital', 'age': 31, 'gender': 'Female', 'education': 'ME'}\n",
                    "name": "stdout"
                }
            ]
        },
        {
            "metadata": {},
            "cell_type": "markdown",
            "source": "### 6. Deleting Dictionary"
        },
        {
            "metadata": {},
            "cell_type": "code",
            "source": "person={\"name\":\"shital\",\"age\":31,\"gender\":\"Female\",\"education\":\"ME\"}\ndel person[\"education\"]\nprint(person)",
            "execution_count": 8,
            "outputs": [
                {
                    "output_type": "stream",
                    "text": "{'name': 'shital', 'age': 31, 'gender': 'Female'}\n",
                    "name": "stdout"
                }
            ]
        },
        {
            "metadata": {},
            "cell_type": "code",
            "source": "del person # delete the whole person dictionary ",
            "execution_count": 9,
            "outputs": []
        },
        {
            "metadata": {},
            "cell_type": "code",
            "source": "print(person)",
            "execution_count": 10,
            "outputs": [
                {
                    "output_type": "error",
                    "ename": "NameError",
                    "evalue": "name 'person' is not defined",
                    "traceback": [
                        "\u001b[0;31m---------------------------------------------------------------------------\u001b[0m",
                        "\u001b[0;31mNameError\u001b[0m                                 Traceback (most recent call last)",
                        "\u001b[0;32m<ipython-input-10-c3b2e0a07fd4>\u001b[0m in \u001b[0;36m<module>\u001b[0;34m\u001b[0m\n\u001b[0;32m----> 1\u001b[0;31m \u001b[0mprint\u001b[0m\u001b[0;34m(\u001b[0m\u001b[0mperson\u001b[0m\u001b[0;34m)\u001b[0m\u001b[0;34m\u001b[0m\u001b[0;34m\u001b[0m\u001b[0m\n\u001b[0m",
                        "\u001b[0;31mNameError\u001b[0m: name 'person' is not defined"
                    ]
                }
            ]
        },
        {
            "metadata": {},
            "cell_type": "code",
            "source": "person={\"name\":\"shital\",\"age\":31,\"gender\":\"Female\",\"education\":\"ME\"}\nperson.clear()# clear all elements from dictionry\nprint(person)\n",
            "execution_count": 11,
            "outputs": [
                {
                    "output_type": "stream",
                    "text": "{}\n",
                    "name": "stdout"
                }
            ]
        },
        {
            "metadata": {},
            "cell_type": "markdown",
            "source": "### 7. Properties of Dictionary Keys"
        },
        {
            "metadata": {},
            "cell_type": "markdown",
            "source": "### 7.1 Dictionary values have no restrictions. They can be any arbitrary Python object, either standard objects or user-defined objects. "
        },
        {
            "metadata": {},
            "cell_type": "markdown",
            "source": "### 7.2 There are two important points to remember about dictionary keys \u2212\n\n###       (a) More than one entry per key not allowed. Which means no duplicate key is allowed. When duplicate keys encountered during assignment, the last assignment wins. "
        },
        {
            "metadata": {},
            "cell_type": "code",
            "source": "dict = {'Name': 'Zara', 'Age': 7, 'Name': 'Manni'}\nprint (\"dict['Name']: \", dict['Name'])",
            "execution_count": 14,
            "outputs": [
                {
                    "output_type": "stream",
                    "text": "dict['Name']:  Manni\n",
                    "name": "stdout"
                }
            ]
        },
        {
            "metadata": {},
            "cell_type": "markdown",
            "source": "### (b) Keys must be immutable. Which means you can use strings, numbers or tuples as dictionary keys but something like ['key'] is not allowed."
        },
        {
            "metadata": {},
            "cell_type": "code",
            "source": "\ndict = {['Name']: 'Zara', 'Age': 7}\nprint (\"dict['Name']: \" ,dict['Name'])",
            "execution_count": 17,
            "outputs": [
                {
                    "output_type": "error",
                    "ename": "TypeError",
                    "evalue": "unhashable type: 'list'",
                    "traceback": [
                        "\u001b[0;31m---------------------------------------------------------------------------\u001b[0m",
                        "\u001b[0;31mTypeError\u001b[0m                                 Traceback (most recent call last)",
                        "\u001b[0;32m<ipython-input-17-0920123bb7a8>\u001b[0m in \u001b[0;36m<module>\u001b[0;34m\u001b[0m\n\u001b[1;32m      1\u001b[0m \u001b[0;34m\u001b[0m\u001b[0m\n\u001b[0;32m----> 2\u001b[0;31m \u001b[0mdict\u001b[0m \u001b[0;34m=\u001b[0m \u001b[0;34m{\u001b[0m\u001b[0;34m[\u001b[0m\u001b[0;34m'Name'\u001b[0m\u001b[0;34m]\u001b[0m\u001b[0;34m:\u001b[0m \u001b[0;34m'Zara'\u001b[0m\u001b[0;34m,\u001b[0m \u001b[0;34m'Age'\u001b[0m\u001b[0;34m:\u001b[0m \u001b[0;36m7\u001b[0m\u001b[0;34m}\u001b[0m\u001b[0;34m\u001b[0m\u001b[0;34m\u001b[0m\u001b[0m\n\u001b[0m\u001b[1;32m      3\u001b[0m \u001b[0mprint\u001b[0m \u001b[0;34m(\u001b[0m\u001b[0;34m\"dict['Name']: \"\u001b[0m \u001b[0;34m,\u001b[0m\u001b[0mdict\u001b[0m\u001b[0;34m[\u001b[0m\u001b[0;34m'Name'\u001b[0m\u001b[0;34m]\u001b[0m\u001b[0;34m)\u001b[0m\u001b[0;34m\u001b[0m\u001b[0;34m\u001b[0m\u001b[0m\n",
                        "\u001b[0;31mTypeError\u001b[0m: unhashable type: 'list'"
                    ]
                }
            ]
        },
        {
            "metadata": {},
            "cell_type": "markdown",
            "source": "### 8. Dictionary functions"
        },
        {
            "metadata": {},
            "cell_type": "markdown",
            "source": "### 8.1 cmp(dict1,dict2): method cmp() compares two dictionaries based on key and values.  \n   ### : This method returns 0 if both dictionaries are equal, -1 if dict1 < dict2 and 1 if dict1 > dic2."
        },
        {
            "metadata": {},
            "cell_type": "code",
            "source": "dict1 = {'Name': 'Zara', 'Age': 7};\ndict2 = {'Name': 'Mahnaz', 'Age': 27};\ndict3 = {'Name': 'Abid', 'Age': 27};\ndict4 = {'Name': 'Zara', 'Age': 7};\nprint (\"Return Value : %d\" %  cmp (dict1, dict2))\nprint (\"Return Value : %d\" %  cmp (dict2, dict3))\nprint (\"Return Value : %d\" %  cmp (dict1, dict4))",
            "execution_count": 19,
            "outputs": [
                {
                    "output_type": "error",
                    "ename": "NameError",
                    "evalue": "name 'cmp' is not defined",
                    "traceback": [
                        "\u001b[0;31m---------------------------------------------------------------------------\u001b[0m",
                        "\u001b[0;31mNameError\u001b[0m                                 Traceback (most recent call last)",
                        "\u001b[0;32m<ipython-input-19-179a755a84d7>\u001b[0m in \u001b[0;36m<module>\u001b[0;34m\u001b[0m\n\u001b[1;32m      3\u001b[0m \u001b[0mdict3\u001b[0m \u001b[0;34m=\u001b[0m \u001b[0;34m{\u001b[0m\u001b[0;34m'Name'\u001b[0m\u001b[0;34m:\u001b[0m \u001b[0;34m'Abid'\u001b[0m\u001b[0;34m,\u001b[0m \u001b[0;34m'Age'\u001b[0m\u001b[0;34m:\u001b[0m \u001b[0;36m27\u001b[0m\u001b[0;34m}\u001b[0m\u001b[0;34m;\u001b[0m\u001b[0;34m\u001b[0m\u001b[0;34m\u001b[0m\u001b[0m\n\u001b[1;32m      4\u001b[0m \u001b[0mdict4\u001b[0m \u001b[0;34m=\u001b[0m \u001b[0;34m{\u001b[0m\u001b[0;34m'Name'\u001b[0m\u001b[0;34m:\u001b[0m \u001b[0;34m'Zara'\u001b[0m\u001b[0;34m,\u001b[0m \u001b[0;34m'Age'\u001b[0m\u001b[0;34m:\u001b[0m \u001b[0;36m7\u001b[0m\u001b[0;34m}\u001b[0m\u001b[0;34m;\u001b[0m\u001b[0;34m\u001b[0m\u001b[0;34m\u001b[0m\u001b[0m\n\u001b[0;32m----> 5\u001b[0;31m \u001b[0mprint\u001b[0m \u001b[0;34m(\u001b[0m\u001b[0;34m\"Return Value : %d\"\u001b[0m \u001b[0;34m%\u001b[0m  \u001b[0mcmp\u001b[0m \u001b[0;34m(\u001b[0m\u001b[0mdict1\u001b[0m\u001b[0;34m,\u001b[0m \u001b[0mdict2\u001b[0m\u001b[0;34m)\u001b[0m\u001b[0;34m)\u001b[0m\u001b[0;34m\u001b[0m\u001b[0;34m\u001b[0m\u001b[0m\n\u001b[0m\u001b[1;32m      6\u001b[0m \u001b[0mprint\u001b[0m \u001b[0;34m(\u001b[0m\u001b[0;34m\"Return Value : %d\"\u001b[0m \u001b[0;34m%\u001b[0m  \u001b[0mcmp\u001b[0m \u001b[0;34m(\u001b[0m\u001b[0mdict2\u001b[0m\u001b[0;34m,\u001b[0m \u001b[0mdict3\u001b[0m\u001b[0;34m)\u001b[0m\u001b[0;34m)\u001b[0m\u001b[0;34m\u001b[0m\u001b[0;34m\u001b[0m\u001b[0m\n\u001b[1;32m      7\u001b[0m \u001b[0mprint\u001b[0m \u001b[0;34m(\u001b[0m\u001b[0;34m\"Return Value : %d\"\u001b[0m \u001b[0;34m%\u001b[0m  \u001b[0mcmp\u001b[0m \u001b[0;34m(\u001b[0m\u001b[0mdict1\u001b[0m\u001b[0;34m,\u001b[0m \u001b[0mdict4\u001b[0m\u001b[0;34m)\u001b[0m\u001b[0;34m)\u001b[0m\u001b[0;34m\u001b[0m\u001b[0;34m\u001b[0m\u001b[0m\n",
                        "\u001b[0;31mNameError\u001b[0m: name 'cmp' is not defined"
                    ]
                }
            ]
        },
        {
            "metadata": {},
            "cell_type": "markdown",
            "source": "### 8.2 len(): method len() gives the total length of the dictionary."
        },
        {
            "metadata": {},
            "cell_type": "code",
            "source": "dict = {'Name': 'Zara', 'Age': 7};\nprint (\"Length : %d\" % len (dict))",
            "execution_count": 20,
            "outputs": [
                {
                    "output_type": "stream",
                    "text": "Length : 2\n",
                    "name": "stdout"
                }
            ]
        },
        {
            "metadata": {},
            "cell_type": "markdown",
            "source": "### 8.3 str(): method str() produces a printable string representation of a dictionary."
        },
        {
            "metadata": {},
            "cell_type": "code",
            "source": "dict = {'Name': 'Zara', 'Age': 7};\nprint (\"Equivalent String : %s\" % str (dict))",
            "execution_count": 21,
            "outputs": [
                {
                    "output_type": "stream",
                    "text": "Equivalent String : {'Name': 'Zara', 'Age': 7}\n",
                    "name": "stdout"
                }
            ]
        },
        {
            "metadata": {},
            "cell_type": "markdown",
            "source": "### 8.4 type():method type() returns the type of the passed variable. If passed variable is dictionary then it would return a dictionary type."
        },
        {
            "metadata": {},
            "cell_type": "code",
            "source": "person={\"name\":\"shital\",\"age\":31}\nprint(type(person))",
            "execution_count": 22,
            "outputs": [
                {
                    "output_type": "stream",
                    "text": "<class 'dict'>\n",
                    "name": "stdout"
                }
            ]
        },
        {
            "metadata": {},
            "cell_type": "markdown",
            "source": "### 9. Dictionary Methods\n### 9.1 clear: Removes all elements of dictionary dict"
        },
        {
            "metadata": {},
            "cell_type": "code",
            "source": "dict={1:\"mumbai\",2:\"pune\",3:\"nagpur\",4:\"solapur\"}\ndict.clear()\nprint(dict)",
            "execution_count": 1,
            "outputs": [
                {
                    "output_type": "stream",
                    "text": "{}\n",
                    "name": "stdout"
                }
            ]
        },
        {
            "metadata": {},
            "cell_type": "markdown",
            "source": "### 9.2 copy(): Returns a shallow copy of dictionary dict"
        },
        {
            "metadata": {},
            "cell_type": "code",
            "source": "dict={1:\"mumbai\",2:\"pune\",3:\"nagpur\",4:\"solapur\"}\ndict2={}\ndict2=dict.copy()\nprint(dict)\nprint(dict2)",
            "execution_count": 5,
            "outputs": [
                {
                    "output_type": "stream",
                    "text": "{1: 'mumbai', 2: 'pune', 3: 'nagpur', 4: 'solapur'}\n{1: 'mumbai', 2: 'pune', 3: 'nagpur', 4: 'solapur'}\n",
                    "name": "stdout"
                }
            ]
        },
        {
            "metadata": {},
            "cell_type": "markdown",
            "source": "### 9.3 keys(): Returns list of dictionary dict's keys"
        },
        {
            "metadata": {},
            "cell_type": "code",
            "source": "dict={1:\"mumbai\",2:\"pune\",3:\"nagpur\",4:\"solapur\"}\nprint(dict.keys())",
            "execution_count": 6,
            "outputs": [
                {
                    "output_type": "stream",
                    "text": "dict_keys([1, 2, 3, 4])\n",
                    "name": "stdout"
                }
            ]
        },
        {
            "metadata": {},
            "cell_type": "markdown",
            "source": "### 9.4 values(): Returns list of dictionary dict's values"
        },
        {
            "metadata": {},
            "cell_type": "code",
            "source": "dict={1:\"mumbai\",2:\"pune\",3:\"nagpur\",4:\"solapur\"}\nprint(dict.values())",
            "execution_count": 7,
            "outputs": [
                {
                    "output_type": "stream",
                    "text": "dict_values(['mumbai', 'pune', 'nagpur', 'solapur'])\n",
                    "name": "stdout"
                }
            ]
        },
        {
            "metadata": {},
            "cell_type": "markdown",
            "source": "### 9.5 fromkeys(): method fromkeys() creates a new dictionary with keys from seq and values set to value.\n### dict.fromkeys(seq[, value])\n### Parameters\n### seq \u2212 This is the list of values which would be used for dictionary keys preparation.\n\n### value \u2212 This is optional, if provided then value would be set to this value"
        },
        {
            "metadata": {},
            "cell_type": "code",
            "source": "var=(\"name\",\"age\")\n\ndict=dict.fromkeys(var)\nprint(dict)\ndict=dict.fromkeys(var,10)\nprint(dict)",
            "execution_count": 10,
            "outputs": [
                {
                    "output_type": "stream",
                    "text": "{'name': None, 'age': None}\n{'name': 10, 'age': 10}\n",
                    "name": "stdout"
                }
            ]
        },
        {
            "metadata": {},
            "cell_type": "code",
            "source": "var=[\"name\",\"age\"]\n\ndict=dict.fromkeys(var)\nprint(dict)\ndict=dict.fromkeys(var,[20,10])\nprint(dict)",
            "execution_count": 13,
            "outputs": [
                {
                    "output_type": "stream",
                    "text": "{'name': None, 'age': None}\n{'name': [20, 10], 'age': [20, 10]}\n",
                    "name": "stdout"
                }
            ]
        },
        {
            "metadata": {},
            "cell_type": "code",
            "source": "var=[\"name\",\"age\"]\n\ndict=dict.fromkeys(var)\nprint(dict)\ndict=dict.fromkeys(var,{20,10})\nprint(dict)",
            "execution_count": 14,
            "outputs": [
                {
                    "output_type": "stream",
                    "text": "{'name': None, 'age': None}\n{'name': {10, 20}, 'age': {10, 20}}\n",
                    "name": "stdout"
                }
            ]
        },
        {
            "metadata": {},
            "cell_type": "markdown",
            "source": "### 9.6 get(): method get() returns a value for the given key. If key is not available then returns default value None.\n### dict.get(key, default = None)\n### Parameters\n###      key \u2212 This is the Key to be searched in the dictionary.\n\n###     default \u2212 This is the Value to be returned in case key does not exist."
        },
        {
            "metadata": {},
            "cell_type": "code",
            "source": "var={1:\"sd\",2:\"df\",3:\"gh\"}\nprint(var.get(1))\nprint(var.get(5))\nprint(var.get(5,\"Not exist\"))\n",
            "execution_count": 16,
            "outputs": [
                {
                    "output_type": "stream",
                    "text": "sd\nNone\nNot exist\n",
                    "name": "stdout"
                }
            ]
        },
        {
            "metadata": {},
            "cell_type": "code",
            "source": "### 9.7 ",
            "execution_count": null,
            "outputs": []
        },
        {
            "metadata": {},
            "cell_type": "code",
            "source": "",
            "execution_count": null,
            "outputs": []
        },
        {
            "metadata": {},
            "cell_type": "code",
            "source": "",
            "execution_count": null,
            "outputs": []
        },
        {
            "metadata": {},
            "cell_type": "code",
            "source": "",
            "execution_count": null,
            "outputs": []
        },
        {
            "metadata": {},
            "cell_type": "code",
            "source": "",
            "execution_count": null,
            "outputs": []
        }
    ],
    "metadata": {
        "kernelspec": {
            "name": "python3",
            "display_name": "Python 3.6",
            "language": "python"
        },
        "language_info": {
            "name": "python",
            "version": "3.6.9",
            "mimetype": "text/x-python",
            "codemirror_mode": {
                "name": "ipython",
                "version": 3
            },
            "pygments_lexer": "ipython3",
            "nbconvert_exporter": "python",
            "file_extension": ".py"
        }
    },
    "nbformat": 4,
    "nbformat_minor": 1
}