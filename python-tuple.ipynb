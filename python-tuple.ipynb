{
    "cells": [
        {
            "metadata": {
                "collapsed": true
            },
            "cell_type": "markdown",
            "source": "# python Tuple"
        },
        {
            "metadata": {},
            "cell_type": "markdown",
            "source": "### 1. A tuple is a collection of objects which ordered and immutable.\n### 2. The differences between tuples and lists are, the tuples cannot be changed unlike lists and tuples use parentheses, whereas lists use square brackets."
        },
        {
            "metadata": {},
            "cell_type": "code",
            "source": "tup1=('c','c++','java','.Net')\ntup2=(1,2,3,4,5)\ntup3=\"1\",\"2\",\"3\",\"3\",\"4\"",
            "execution_count": 3,
            "outputs": []
        },
        {
            "metadata": {},
            "cell_type": "code",
            "source": "print(tup1)\nprint(tup2)\nprint(tup3)",
            "execution_count": 4,
            "outputs": [
                {
                    "output_type": "stream",
                    "text": "('c', 'c++', 'java', '.Net')\n(1, 2, 3, 4, 5)\n('1', '2', '3', '3', '4')\n",
                    "name": "stdout"
                }
            ]
        },
        {
            "metadata": {},
            "cell_type": "markdown",
            "source": "### 3. empty Tuple\ntup=()"
        },
        {
            "metadata": {},
            "cell_type": "code",
            "source": "tup=(50)",
            "execution_count": 5,
            "outputs": []
        },
        {
            "metadata": {},
            "cell_type": "code",
            "source": "tup",
            "execution_count": 6,
            "outputs": [
                {
                    "output_type": "execute_result",
                    "execution_count": 6,
                    "data": {
                        "text/plain": "50"
                    },
                    "metadata": {}
                }
            ]
        },
        {
            "metadata": {},
            "cell_type": "markdown",
            "source": "### 4. Tuple index start with 0 and they can be sliced, concatenated, and so on."
        },
        {
            "metadata": {},
            "cell_type": "code",
            "source": "tup=(2,3,4,5,6,7,8)\nprint(tup[2:5])",
            "execution_count": 7,
            "outputs": [
                {
                    "output_type": "stream",
                    "text": "(4, 5, 6)\n",
                    "name": "stdout"
                }
            ]
        },
        {
            "metadata": {},
            "cell_type": "code",
            "source": "tup1=(2,3,4,5,6,7,8)\ntup2=(23,45,67,89,45)\ntup3=tup1 + tup2\nprint(tup1)\nprint(tup2)\nprint(tup3)",
            "execution_count": 8,
            "outputs": [
                {
                    "output_type": "stream",
                    "text": "(2, 3, 4, 5, 6, 7, 8)\n(23, 45, 67, 89, 45)\n(2, 3, 4, 5, 6, 7, 8, 23, 45, 67, 89, 45)\n",
                    "name": "stdout"
                }
            ]
        },
        {
            "metadata": {},
            "cell_type": "markdown",
            "source": "### 5. updating Tuples: Tuples are immutable which means you cannot update or change the values of tuple elements."
        },
        {
            "metadata": {},
            "cell_type": "code",
            "source": "tup=(1,2,3)\ntup[3]=5 # not possible on tuple",
            "execution_count": 9,
            "outputs": [
                {
                    "output_type": "error",
                    "ename": "TypeError",
                    "evalue": "'tuple' object does not support item assignment",
                    "traceback": [
                        "\u001b[0;31m---------------------------------------------------------------------------\u001b[0m",
                        "\u001b[0;31mTypeError\u001b[0m                                 Traceback (most recent call last)",
                        "\u001b[0;32m<ipython-input-9-c711dd2bb790>\u001b[0m in \u001b[0;36m<module>\u001b[0;34m\u001b[0m\n\u001b[1;32m      1\u001b[0m \u001b[0mtup\u001b[0m\u001b[0;34m=\u001b[0m\u001b[0;34m(\u001b[0m\u001b[0;36m1\u001b[0m\u001b[0;34m,\u001b[0m\u001b[0;36m2\u001b[0m\u001b[0;34m,\u001b[0m\u001b[0;36m3\u001b[0m\u001b[0;34m)\u001b[0m\u001b[0;34m\u001b[0m\u001b[0;34m\u001b[0m\u001b[0m\n\u001b[0;32m----> 2\u001b[0;31m \u001b[0mtup\u001b[0m\u001b[0;34m[\u001b[0m\u001b[0;36m3\u001b[0m\u001b[0;34m]\u001b[0m\u001b[0;34m=\u001b[0m\u001b[0;36m5\u001b[0m \u001b[0;31m# not possible on tuple\u001b[0m\u001b[0;34m\u001b[0m\u001b[0;34m\u001b[0m\u001b[0m\n\u001b[0m",
                        "\u001b[0;31mTypeError\u001b[0m: 'tuple' object does not support item assignment"
                    ]
                }
            ]
        },
        {
            "metadata": {},
            "cell_type": "markdown",
            "source": "### 6. Deleting Tuple: Removing individual tuple elements is not possible. "
        },
        {
            "metadata": {},
            "cell_type": "code",
            "source": "tup = ('physics', 'chemistry', 1997, 2000)\nprint (tup)\ndel tup\nprint (\"After deleting tup : \")\nprint (tup)",
            "execution_count": 10,
            "outputs": [
                {
                    "output_type": "stream",
                    "text": "('physics', 'chemistry', 1997, 2000)\nAfter deleting tup : \n",
                    "name": "stdout"
                },
                {
                    "output_type": "error",
                    "ename": "NameError",
                    "evalue": "name 'tup' is not defined",
                    "traceback": [
                        "\u001b[0;31m---------------------------------------------------------------------------\u001b[0m",
                        "\u001b[0;31mNameError\u001b[0m                                 Traceback (most recent call last)",
                        "\u001b[0;32m<ipython-input-10-8ba2be7073ff>\u001b[0m in \u001b[0;36m<module>\u001b[0;34m\u001b[0m\n\u001b[1;32m      3\u001b[0m \u001b[0;32mdel\u001b[0m \u001b[0mtup\u001b[0m\u001b[0;34m\u001b[0m\u001b[0;34m\u001b[0m\u001b[0m\n\u001b[1;32m      4\u001b[0m \u001b[0mprint\u001b[0m \u001b[0;34m(\u001b[0m\u001b[0;34m\"After deleting tup : \"\u001b[0m\u001b[0;34m)\u001b[0m\u001b[0;34m\u001b[0m\u001b[0;34m\u001b[0m\u001b[0m\n\u001b[0;32m----> 5\u001b[0;31m \u001b[0mprint\u001b[0m \u001b[0;34m(\u001b[0m\u001b[0mtup\u001b[0m\u001b[0;34m)\u001b[0m\u001b[0;34m\u001b[0m\u001b[0;34m\u001b[0m\u001b[0m\n\u001b[0m",
                        "\u001b[0;31mNameError\u001b[0m: name 'tup' is not defined"
                    ]
                }
            ]
        },
        {
            "metadata": {},
            "cell_type": "markdown",
            "source": "### 7. Basic Tuple operation"
        },
        {
            "metadata": {},
            "cell_type": "markdown",
            "source": "### 7.1 finding length of tuple"
        },
        {
            "metadata": {},
            "cell_type": "code",
            "source": "tup=(1,2,3,4,5)\nprint(len(tup))",
            "execution_count": null,
            "outputs": []
        },
        {
            "metadata": {},
            "cell_type": "markdown",
            "source": "### 7.2 concatenating two tuple"
        },
        {
            "metadata": {},
            "cell_type": "code",
            "source": "tup=(1,2,3,4,5)\ntup2=(23,34,45,56)\ntup=tup + tup2\nprint(tup3)",
            "execution_count": 11,
            "outputs": [
                {
                    "output_type": "stream",
                    "text": "(2, 3, 4, 5, 6, 7, 8, 23, 45, 67, 89, 45)\n",
                    "name": "stdout"
                }
            ]
        },
        {
            "metadata": {},
            "cell_type": "markdown",
            "source": "### 7.3 repetition of Tuple using *"
        },
        {
            "metadata": {},
            "cell_type": "code",
            "source": "tup=(1,2,3,4,5)\nprint(tup * 2)",
            "execution_count": 12,
            "outputs": [
                {
                    "output_type": "stream",
                    "text": "(1, 2, 3, 4, 5, 1, 2, 3, 4, 5)\n",
                    "name": "stdout"
                }
            ]
        },
        {
            "metadata": {},
            "cell_type": "markdown",
            "source": "### 7.4 Membership operator on tuple\n"
        },
        {
            "metadata": {},
            "cell_type": "code",
            "source": "tup=(1,2,3,4,5)\nif 3 in tup:print(\"true\")\nelse:print(\"false\")",
            "execution_count": 13,
            "outputs": [
                {
                    "output_type": "stream",
                    "text": "true\n",
                    "name": "stdout"
                }
            ]
        },
        {
            "metadata": {},
            "cell_type": "code",
            "source": "tup=(1,2,3,4,5)\nif not 3 in tup:print(\"true\")\nelse:print(\"false\")",
            "execution_count": 14,
            "outputs": [
                {
                    "output_type": "stream",
                    "text": "false\n",
                    "name": "stdout"
                }
            ]
        },
        {
            "metadata": {},
            "cell_type": "markdown",
            "source": "### Slicing on Tuple"
        },
        {
            "metadata": {},
            "cell_type": "code",
            "source": "tup=(1,2,3,4,5)\nprint(tup[2:3])\nprint(tup[-1])# print form right\nprint(tup[1:])",
            "execution_count": 15,
            "outputs": [
                {
                    "output_type": "stream",
                    "text": "(3,)\n5\n(2, 3, 4, 5)\n",
                    "name": "stdout"
                }
            ]
        },
        {
            "metadata": {},
            "cell_type": "markdown",
            "source": "# Tuple Functions"
        },
        {
            "metadata": {},
            "cell_type": "markdown",
            "source": "### 1.cmp(tuple1, tuple2): method cmp() compares elements of two tuples."
        },
        {
            "metadata": {},
            "cell_type": "code",
            "source": "\ntup1=(23,45,67)\ntup2=(45,89,21)\na=cmp(tup1,tup2)\nprint(a)",
            "execution_count": 17,
            "outputs": [
                {
                    "output_type": "error",
                    "ename": "NameError",
                    "evalue": "name 'cmp' is not defined",
                    "traceback": [
                        "\u001b[0;31m---------------------------------------------------------------------------\u001b[0m",
                        "\u001b[0;31mNameError\u001b[0m                                 Traceback (most recent call last)",
                        "\u001b[0;32m<ipython-input-17-c7268dd271d3>\u001b[0m in \u001b[0;36m<module>\u001b[0;34m\u001b[0m\n\u001b[1;32m      1\u001b[0m \u001b[0mtup1\u001b[0m\u001b[0;34m=\u001b[0m\u001b[0;34m(\u001b[0m\u001b[0;36m23\u001b[0m\u001b[0;34m,\u001b[0m\u001b[0;36m45\u001b[0m\u001b[0;34m,\u001b[0m\u001b[0;36m67\u001b[0m\u001b[0;34m)\u001b[0m\u001b[0;34m\u001b[0m\u001b[0;34m\u001b[0m\u001b[0m\n\u001b[1;32m      2\u001b[0m \u001b[0mtup2\u001b[0m\u001b[0;34m=\u001b[0m\u001b[0;34m(\u001b[0m\u001b[0;36m45\u001b[0m\u001b[0;34m,\u001b[0m\u001b[0;36m89\u001b[0m\u001b[0;34m,\u001b[0m\u001b[0;36m21\u001b[0m\u001b[0;34m)\u001b[0m\u001b[0;34m\u001b[0m\u001b[0;34m\u001b[0m\u001b[0m\n\u001b[0;32m----> 3\u001b[0;31m \u001b[0ma\u001b[0m\u001b[0;34m=\u001b[0m\u001b[0mcmp\u001b[0m\u001b[0;34m(\u001b[0m\u001b[0mtup1\u001b[0m\u001b[0;34m,\u001b[0m\u001b[0mtup2\u001b[0m\u001b[0;34m)\u001b[0m\u001b[0;34m\u001b[0m\u001b[0;34m\u001b[0m\u001b[0m\n\u001b[0m\u001b[1;32m      4\u001b[0m \u001b[0mprint\u001b[0m\u001b[0;34m(\u001b[0m\u001b[0ma\u001b[0m\u001b[0;34m)\u001b[0m\u001b[0;34m\u001b[0m\u001b[0;34m\u001b[0m\u001b[0m\n",
                        "\u001b[0;31mNameError\u001b[0m: name 'cmp' is not defined"
                    ]
                }
            ]
        },
        {
            "metadata": {},
            "cell_type": "markdown",
            "source": "### 2. len(): method len() returns the number of elements in the tuple."
        },
        {
            "metadata": {},
            "cell_type": "code",
            "source": "tup1=(23,45,67)\nprint(len(tup1))",
            "execution_count": 18,
            "outputs": [
                {
                    "output_type": "stream",
                    "text": "3\n",
                    "name": "stdout"
                }
            ]
        },
        {
            "metadata": {},
            "cell_type": "markdown",
            "source": "### 3. Min(tuple): method min() returns the elements from the tuple with minimum value."
        },
        {
            "metadata": {},
            "cell_type": "code",
            "source": "tup1=(23,45,67)\nprint(min(tup1))",
            "execution_count": 19,
            "outputs": [
                {
                    "output_type": "stream",
                    "text": "23\n",
                    "name": "stdout"
                }
            ]
        },
        {
            "metadata": {},
            "cell_type": "markdown",
            "source": "### 4. max(tuple):method max() returns the elements from the tuple with maximum value."
        },
        {
            "metadata": {},
            "cell_type": "code",
            "source": "tup1=(23,45,67)\nprint(max(tup1))",
            "execution_count": 20,
            "outputs": [
                {
                    "output_type": "stream",
                    "text": "67\n",
                    "name": "stdout"
                }
            ]
        },
        {
            "metadata": {},
            "cell_type": "markdown",
            "source": "### 5. tuple(): method tuple() converts a list of items into tuples"
        },
        {
            "metadata": {},
            "cell_type": "code",
            "source": "var=[23,34,'shital','siya']\ntup1=tuple(var)\nprint\n",
            "execution_count": null,
            "outputs": []
        }
    ],
    "metadata": {
        "kernelspec": {
            "name": "python3",
            "display_name": "Python 3.6",
            "language": "python"
        },
        "language_info": {
            "name": "python",
            "version": "3.6.9",
            "mimetype": "text/x-python",
            "codemirror_mode": {
                "name": "ipython",
                "version": 3
            },
            "pygments_lexer": "ipython3",
            "nbconvert_exporter": "python",
            "file_extension": ".py"
        }
    },
    "nbformat": 4,
    "nbformat_minor": 1
}