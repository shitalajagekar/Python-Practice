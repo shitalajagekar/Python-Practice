{
    "cells": [
        {
            "metadata": {
                "collapsed": true
            },
            "cell_type": "markdown",
            "source": "# Python List"
        },
        {
            "metadata": {},
            "cell_type": "markdown",
            "source": "### 1. list can store different types of data\n### 2. created with the help of []\n### 3. can store duplicate value\n### 4. empty list can be created as: var=[] and we can add values with the help of append()\n### 5. list index start with index 0."
        },
        {
            "metadata": {},
            "cell_type": "code",
            "source": "data=['shital',123,12.4,0,12,4,4,4]",
            "execution_count": 2,
            "outputs": []
        },
        {
            "metadata": {},
            "cell_type": "code",
            "source": "data",
            "execution_count": 3,
            "outputs": [
                {
                    "output_type": "execute_result",
                    "execution_count": 3,
                    "data": {
                        "text/plain": "['shital', 123, 12.4, 0, 12, 4, 4, 4]"
                    },
                    "metadata": {}
                }
            ]
        },
        {
            "metadata": {},
            "cell_type": "code",
            "source": "data[:3]",
            "execution_count": 4,
            "outputs": [
                {
                    "output_type": "execute_result",
                    "execution_count": 4,
                    "data": {
                        "text/plain": "['shital', 123, 12.4]"
                    },
                    "metadata": {}
                }
            ]
        },
        {
            "metadata": {},
            "cell_type": "code",
            "source": "data[2:]",
            "execution_count": 5,
            "outputs": [
                {
                    "output_type": "execute_result",
                    "execution_count": 5,
                    "data": {
                        "text/plain": "[12.4, 0, 12, 4, 4, 4]"
                    },
                    "metadata": {}
                }
            ]
        },
        {
            "metadata": {},
            "cell_type": "code",
            "source": "data[3:5]",
            "execution_count": 6,
            "outputs": [
                {
                    "output_type": "execute_result",
                    "execution_count": 6,
                    "data": {
                        "text/plain": "[0, 12]"
                    },
                    "metadata": {}
                }
            ]
        },
        {
            "metadata": {},
            "cell_type": "code",
            "source": "data[:]",
            "execution_count": 7,
            "outputs": [
                {
                    "output_type": "execute_result",
                    "execution_count": 7,
                    "data": {
                        "text/plain": "['shital', 123, 12.4, 0, 12, 4, 4, 4]"
                    },
                    "metadata": {}
                }
            ]
        },
        {
            "metadata": {},
            "cell_type": "code",
            "source": "data.append('siya')",
            "execution_count": 8,
            "outputs": []
        },
        {
            "metadata": {},
            "cell_type": "code",
            "source": "data",
            "execution_count": 9,
            "outputs": [
                {
                    "output_type": "execute_result",
                    "execution_count": 9,
                    "data": {
                        "text/plain": "['shital', 123, 12.4, 0, 12, 4, 4, 4, 'siya']"
                    },
                    "metadata": {}
                }
            ]
        },
        {
            "metadata": {},
            "cell_type": "markdown",
            "source": "### 6. You can update single or multiple elements of lists by giving the slice on the left-hand side of the assignment operator, \n###     and you can add to elements in a list with the append() method."
        },
        {
            "metadata": {},
            "cell_type": "code",
            "source": "data[2]='kumar'\ndata\n",
            "execution_count": 13,
            "outputs": [
                {
                    "output_type": "execute_result",
                    "execution_count": 13,
                    "data": {
                        "text/plain": "['shital', 123, 'kumar', 0, 12, 4, 4, 4, 'siya']"
                    },
                    "metadata": {}
                }
            ]
        },
        {
            "metadata": {},
            "cell_type": "markdown",
            "source": "### 7. we can delete the list elements with the help of del statement"
        },
        {
            "metadata": {},
            "cell_type": "code",
            "source": "del data[2]",
            "execution_count": 14,
            "outputs": []
        },
        {
            "metadata": {},
            "cell_type": "code",
            "source": "data",
            "execution_count": 15,
            "outputs": [
                {
                    "output_type": "execute_result",
                    "execution_count": 15,
                    "data": {
                        "text/plain": "['shital', 123, 0, 12, 4, 4, 4, 'siya']"
                    },
                    "metadata": {}
                }
            ]
        },
        {
            "metadata": {},
            "cell_type": "markdown",
            "source": "### 8. list operation\n### 8.1 len()"
        },
        {
            "metadata": {},
            "cell_type": "code",
            "source": "print(len(data))",
            "execution_count": 18,
            "outputs": [
                {
                    "output_type": "stream",
                    "text": "8\n",
                    "name": "stdout"
                }
            ]
        },
        {
            "metadata": {},
            "cell_type": "markdown",
            "source": "### 8.2 concateneting two string"
        },
        {
            "metadata": {},
            "cell_type": "code",
            "source": "\ndata2=['bhairavi','elephant',23]\ndata3=data+data2\nprint(data3)",
            "execution_count": 19,
            "outputs": [
                {
                    "output_type": "stream",
                    "text": "['shital', 123, 0, 12, 4, 4, 4, 'siya', 'bhairavi', 'elephant', 23]\n",
                    "name": "stdout"
                }
            ]
        },
        {
            "metadata": {},
            "cell_type": "markdown",
            "source": "### 8.3 Repetition of string using *"
        },
        {
            "metadata": {},
            "cell_type": "code",
            "source": "print(data2*2)",
            "execution_count": 21,
            "outputs": [
                {
                    "output_type": "stream",
                    "text": "['bhairavi', 'elephant', 23, 'bhairavi', 'elephant', 23]\n",
                    "name": "stdout"
                }
            ]
        },
        {
            "metadata": {},
            "cell_type": "markdown",
            "source": "### 8.4 Membership operator"
        },
        {
            "metadata": {},
            "cell_type": "code",
            "source": "if 'bhairavi' in data2:print(\"Bhairavi is present in data2\")\nelse: print(\"Bhairavi is not present in data2\")",
            "execution_count": 23,
            "outputs": [
                {
                    "output_type": "stream",
                    "text": "Bhairavi is present in data2\n",
                    "name": "stdout"
                }
            ]
        },
        {
            "metadata": {},
            "cell_type": "code",
            "source": "if not 'bhairavi' in data2:print(\"Bhairavi is not present in data2\")\nelse: print(\"Bhairavi is  present in data2\")",
            "execution_count": 24,
            "outputs": [
                {
                    "output_type": "stream",
                    "text": "Bhairavi is  present in data2\n",
                    "name": "stdout"
                }
            ]
        },
        {
            "metadata": {},
            "cell_type": "markdown",
            "source": "# List Functions"
        },
        {
            "metadata": {},
            "cell_type": "markdown",
            "source": "### 1. len(): finds the length of list"
        },
        {
            "metadata": {},
            "cell_type": "code",
            "source": "str=['java','c','c++']\nprint(len(str))",
            "execution_count": 10,
            "outputs": [
                {
                    "output_type": "stream",
                    "text": "3\n",
                    "name": "stdout"
                }
            ]
        },
        {
            "metadata": {},
            "cell_type": "code",
            "source": "str2=list(range(5))# created list of size 5 and contain number from 0-4\nprint(str2[2])\nprint(str2)",
            "execution_count": 11,
            "outputs": [
                {
                    "output_type": "stream",
                    "text": "2\n[0, 1, 2, 3, 4]\n",
                    "name": "stdout"
                }
            ]
        },
        {
            "metadata": {},
            "cell_type": "markdown",
            "source": "### 2. max(): returns maximum no from list"
        },
        {
            "metadata": {},
            "cell_type": "code",
            "source": "print(max(str))\nstr3=[34,56,1,23,89]\nprint(max(str3))",
            "execution_count": 12,
            "outputs": [
                {
                    "output_type": "stream",
                    "text": "java\n89\n",
                    "name": "stdout"
                }
            ]
        },
        {
            "metadata": {},
            "cell_type": "markdown",
            "source": "### 3. min(): returns minimum no from list"
        },
        {
            "metadata": {},
            "cell_type": "code",
            "source": "var,var2=['f','r','t','a'],[23,56,43,78,65]\nprint(min(var),\"  \",min(var2))",
            "execution_count": 13,
            "outputs": [
                {
                    "output_type": "stream",
                    "text": "a    23\n",
                    "name": "stdout"
                }
            ]
        },
        {
            "metadata": {},
            "cell_type": "markdown",
            "source": "### 4. list(): converts tuple or string into list"
        },
        {
            "metadata": {},
            "cell_type": "code",
            "source": "var=('c','c++','java','python')\nlist_var=list(var)\nprint(list_var)\nstr=\"Hello world\"\nlist_var2=list(str)\nprint(list_var2)",
            "execution_count": 14,
            "outputs": [
                {
                    "output_type": "stream",
                    "text": "['c', 'c++', 'java', 'python']\n['H', 'e', 'l', 'l', 'o', ' ', 'w', 'o', 'r', 'l', 'd']\n",
                    "name": "stdout"
                }
            ]
        },
        {
            "metadata": {},
            "cell_type": "markdown",
            "source": "# List Methods"
        },
        {
            "metadata": {},
            "cell_type": "markdown",
            "source": "### 1. append(): add the elements into the list"
        },
        {
            "metadata": {},
            "cell_type": "code",
            "source": "var=list()\nvar.append(5)\nvar.append(3)\nvar.append(45)\nvar.append(56)\nvar.append(89)\nprint(var)",
            "execution_count": 18,
            "outputs": [
                {
                    "output_type": "stream",
                    "text": "[5, 3, 45, 56, 89]\n",
                    "name": "stdout"
                }
            ]
        },
        {
            "metadata": {},
            "cell_type": "markdown",
            "source": "### 2.count(): count how many times object occur in the list"
        },
        {
            "metadata": {},
            "cell_type": "code",
            "source": "var=[12,34,45,12,67,45,12,12,45,67,87]\nprint(var.count(12))",
            "execution_count": 22,
            "outputs": [
                {
                    "output_type": "stream",
                    "text": "4\n",
                    "name": "stdout"
                }
            ]
        },
        {
            "metadata": {},
            "cell_type": "markdown",
            "source": "### 3. Index():This method returns index of the found object otherwise raise an exception indicating that value does not find."
        },
        {
            "metadata": {},
            "cell_type": "code",
            "source": "var=['c','c++','java','python']\nprint(var.index('java'))",
            "execution_count": 23,
            "outputs": [
                {
                    "output_type": "stream",
                    "text": "2\n",
                    "name": "stdout"
                }
            ]
        },
        {
            "metadata": {},
            "cell_type": "code",
            "source": "var=['c','c++','java','python']\nvar2=list(range(5))\nvar.extend(var2)\nprint(\"extneded list\",var)",
            "execution_count": 24,
            "outputs": [
                {
                    "output_type": "stream",
                    "text": "extneded list ['c', 'c++', 'java', 'python', 0, 1, 2, 3, 4]\n",
                    "name": "stdout"
                }
            ]
        },
        {
            "metadata": {},
            "cell_type": "markdown",
            "source": "### 4.insert(index,obj): insert the object at given position"
        },
        {
            "metadata": {},
            "cell_type": "code",
            "source": "var=['c','c++','java','python']\nprint(\"before inserting \",var)\nvar.insert(3,\".Net\")\nprint(var)",
            "execution_count": 27,
            "outputs": [
                {
                    "output_type": "stream",
                    "text": "before inserting  ['c', 'c++', 'java', 'python']\n['c', 'c++', 'java', '.Net', 'python']\n",
                    "name": "stdout"
                }
            ]
        },
        {
            "metadata": {},
            "cell_type": "markdown",
            "source": "### 5. pop():"
        },
        {
            "metadata": {},
            "cell_type": "code",
            "source": "var=['c','c++','java','python','.Net']\nprint(\"before poping \",var)\nprint(\"poped element\",var.pop())\nprint(\"after poping \",var)\nprint(\"poping index=1 element\",var.pop(1))\nprint(\"after poping \",var)",
            "execution_count": 29,
            "outputs": [
                {
                    "output_type": "stream",
                    "text": "before poping  ['c', 'c++', 'java', 'python', '.Net']\npoped element .Net\nafter poping  ['c', 'c++', 'java', 'python']\npoping index=1 element c++\nafter poping  ['c', 'java', 'python']\n",
                    "name": "stdout"
                }
            ]
        },
        {
            "metadata": {},
            "cell_type": "markdown",
            "source": "### 6. Remove():method remove() searches for the given element in the list and removes the first matching element."
        },
        {
            "metadata": {},
            "cell_type": "code",
            "source": "var=['c','c++','java','python','.Net','c','java']\nprint(\"before removing element 'c' \",var)\nvar.remove('c')\nprint(\"after removing element \",var)",
            "execution_count": 1,
            "outputs": [
                {
                    "output_type": "stream",
                    "text": "before removing element 'c'  ['c', 'c++', 'java', 'python', '.Net', 'c', 'java']\nafter removing element  ['c++', 'java', 'python', '.Net', 'c', 'java']\n",
                    "name": "stdout"
                }
            ]
        },
        {
            "metadata": {},
            "cell_type": "markdown",
            "source": "### 7. reverse(): method reverse() reverses objects of list in place."
        },
        {
            "metadata": {},
            "cell_type": "code",
            "source": "var=[1,2,3,4,5]\nprint(\"before reverse list\", var)\nvar.reverse()\nprint(\"after reversing the list\",var)",
            "execution_count": 2,
            "outputs": [
                {
                    "output_type": "stream",
                    "text": "before reverse list [1, 2, 3, 4, 5]\nafter reversing the list [5, 4, 3, 2, 1]\n",
                    "name": "stdout"
                }
            ]
        },
        {
            "metadata": {},
            "cell_type": "markdown",
            "source": "### 8. sort(): method sort() sorts objects of list, use compare func if given."
        },
        {
            "metadata": {},
            "cell_type": "code",
            "source": "var=[23,21,11,98,300,230]\nvar.s",
            "execution_count": null,
            "outputs": []
        }
    ],
    "metadata": {
        "kernelspec": {
            "name": "python3",
            "display_name": "Python 3.6",
            "language": "python"
        },
        "language_info": {
            "name": "python",
            "version": "3.6.9",
            "mimetype": "text/x-python",
            "codemirror_mode": {
                "name": "ipython",
                "version": 3
            },
            "pygments_lexer": "ipython3",
            "nbconvert_exporter": "python",
            "file_extension": ".py"
        }
    },
    "nbformat": 4,
    "nbformat_minor": 1
}