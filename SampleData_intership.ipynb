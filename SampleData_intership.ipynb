{
    "cells": [
        {
            "metadata": {},
            "cell_type": "markdown",
            "source": "## Work on Sample Data"
        },
        {
            "metadata": {},
            "cell_type": "code",
            "source": "!wget -O Sample.csv https://raw.githubusercontent.com/shitalajagekar/Python-Practice/master/sample-data.csv",
            "execution_count": 63,
            "outputs": [
                {
                    "output_type": "stream",
                    "text": "--2021-05-30 11:55:57--  https://raw.githubusercontent.com/shitalajagekar/Python-Practice/master/sample-data.csv\nResolving raw.githubusercontent.com (raw.githubusercontent.com)... 185.199.110.133, 185.199.108.133, 185.199.109.133, ...\nConnecting to raw.githubusercontent.com (raw.githubusercontent.com)|185.199.110.133|:443... connected.\nHTTP request sent, awaiting response... 200 OK\nLength: 1120412 (1.1M) [text/plain]\nSaving to: \u2018Sample.csv\u2019\n\nSample.csv          100%[===================>]   1.07M  --.-KB/s    in 0.02s   \n\n2021-05-30 11:55:58 (44.9 MB/s) - \u2018Sample.csv\u2019 saved [1120412/1120412]\n\n",
                    "name": "stdout"
                }
            ]
        },
        {
            "metadata": {},
            "cell_type": "code",
            "source": "import pandas as pd\nimport numpy as np\nimport time",
            "execution_count": 64,
            "outputs": []
        },
        {
            "metadata": {},
            "cell_type": "code",
            "source": "df= pd.read_csv(\"Sample.csv\")",
            "execution_count": 65,
            "outputs": []
        },
        {
            "metadata": {},
            "cell_type": "code",
            "source": "df.head()",
            "execution_count": 66,
            "outputs": [
                {
                    "output_type": "execute_result",
                    "execution_count": 66,
                    "data": {
                        "text/plain": "         time      accX      accY      accZ       gyrX       gyrY       gyrZ  \\\n0  1620022010 -5.509766 -2.220703  5.208984   3.417969  16.113281 -30.944824   \n1  1620022010 -5.533203 -2.210938  5.205078 -15.380859  22.277832 -27.893066   \n2  1620022010 -5.591797 -2.097656  5.251953 -28.564453  27.282715 -22.155762   \n3  1620022011 -5.517578 -2.107422  5.220703 -43.029785  37.841797  -6.103516   \n4  1620022011 -5.562500 -2.152344  5.306641 -57.617188  41.503906  12.451172   \n\n       magX      magY      magZ  \n0 -0.175195  0.006348  0.060303  \n1 -0.175195  0.006348  0.060303  \n2 -0.175195  0.006348  0.060303  \n3 -0.175195  0.006348  0.060303  \n4 -0.175195  0.006348  0.060303  ",
                        "text/html": "<div>\n<style scoped>\n    .dataframe tbody tr th:only-of-type {\n        vertical-align: middle;\n    }\n\n    .dataframe tbody tr th {\n        vertical-align: top;\n    }\n\n    .dataframe thead th {\n        text-align: right;\n    }\n</style>\n<table border=\"1\" class=\"dataframe\">\n  <thead>\n    <tr style=\"text-align: right;\">\n      <th></th>\n      <th>time</th>\n      <th>accX</th>\n      <th>accY</th>\n      <th>accZ</th>\n      <th>gyrX</th>\n      <th>gyrY</th>\n      <th>gyrZ</th>\n      <th>magX</th>\n      <th>magY</th>\n      <th>magZ</th>\n    </tr>\n  </thead>\n  <tbody>\n    <tr>\n      <th>0</th>\n      <td>1620022010</td>\n      <td>-5.509766</td>\n      <td>-2.220703</td>\n      <td>5.208984</td>\n      <td>3.417969</td>\n      <td>16.113281</td>\n      <td>-30.944824</td>\n      <td>-0.175195</td>\n      <td>0.006348</td>\n      <td>0.060303</td>\n    </tr>\n    <tr>\n      <th>1</th>\n      <td>1620022010</td>\n      <td>-5.533203</td>\n      <td>-2.210938</td>\n      <td>5.205078</td>\n      <td>-15.380859</td>\n      <td>22.277832</td>\n      <td>-27.893066</td>\n      <td>-0.175195</td>\n      <td>0.006348</td>\n      <td>0.060303</td>\n    </tr>\n    <tr>\n      <th>2</th>\n      <td>1620022010</td>\n      <td>-5.591797</td>\n      <td>-2.097656</td>\n      <td>5.251953</td>\n      <td>-28.564453</td>\n      <td>27.282715</td>\n      <td>-22.155762</td>\n      <td>-0.175195</td>\n      <td>0.006348</td>\n      <td>0.060303</td>\n    </tr>\n    <tr>\n      <th>3</th>\n      <td>1620022011</td>\n      <td>-5.517578</td>\n      <td>-2.107422</td>\n      <td>5.220703</td>\n      <td>-43.029785</td>\n      <td>37.841797</td>\n      <td>-6.103516</td>\n      <td>-0.175195</td>\n      <td>0.006348</td>\n      <td>0.060303</td>\n    </tr>\n    <tr>\n      <th>4</th>\n      <td>1620022011</td>\n      <td>-5.562500</td>\n      <td>-2.152344</td>\n      <td>5.306641</td>\n      <td>-57.617188</td>\n      <td>41.503906</td>\n      <td>12.451172</td>\n      <td>-0.175195</td>\n      <td>0.006348</td>\n      <td>0.060303</td>\n    </tr>\n  </tbody>\n</table>\n</div>"
                    },
                    "metadata": {}
                }
            ]
        },
        {
            "metadata": {},
            "cell_type": "code",
            "source": "length= df.shape\nrows =length[0]\nprint(rows)",
            "execution_count": 67,
            "outputs": [
                {
                    "output_type": "stream",
                    "text": "10455\n",
                    "name": "stdout"
                }
            ]
        },
        {
            "metadata": {},
            "cell_type": "code",
            "source": "def converter(x):\n    for i in range(rows):\n        epoch = df.loc[i,'time']\n        time_formatted = time.strftime('%Y/%m/%d %H:%M:%S', time.localtime(epoch))\n        return time_formatted\n\n    \n    ",
            "execution_count": 68,
            "outputs": []
        },
        {
            "metadata": {},
            "cell_type": "code",
            "source": "df['local_time'] = df.apply (converter, axis=1)",
            "execution_count": 69,
            "outputs": []
        },
        {
            "metadata": {},
            "cell_type": "code",
            "source": "\ndf.head()",
            "execution_count": 70,
            "outputs": [
                {
                    "output_type": "execute_result",
                    "execution_count": 70,
                    "data": {
                        "text/plain": "         time      accX      accY      accZ       gyrX       gyrY       gyrZ  \\\n0  1620022010 -5.509766 -2.220703  5.208984   3.417969  16.113281 -30.944824   \n1  1620022010 -5.533203 -2.210938  5.205078 -15.380859  22.277832 -27.893066   \n2  1620022010 -5.591797 -2.097656  5.251953 -28.564453  27.282715 -22.155762   \n3  1620022011 -5.517578 -2.107422  5.220703 -43.029785  37.841797  -6.103516   \n4  1620022011 -5.562500 -2.152344  5.306641 -57.617188  41.503906  12.451172   \n\n       magX      magY      magZ           local_time  \n0 -0.175195  0.006348  0.060303  2021/05/03 06:06:50  \n1 -0.175195  0.006348  0.060303  2021/05/03 06:06:50  \n2 -0.175195  0.006348  0.060303  2021/05/03 06:06:50  \n3 -0.175195  0.006348  0.060303  2021/05/03 06:06:50  \n4 -0.175195  0.006348  0.060303  2021/05/03 06:06:50  ",
                        "text/html": "<div>\n<style scoped>\n    .dataframe tbody tr th:only-of-type {\n        vertical-align: middle;\n    }\n\n    .dataframe tbody tr th {\n        vertical-align: top;\n    }\n\n    .dataframe thead th {\n        text-align: right;\n    }\n</style>\n<table border=\"1\" class=\"dataframe\">\n  <thead>\n    <tr style=\"text-align: right;\">\n      <th></th>\n      <th>time</th>\n      <th>accX</th>\n      <th>accY</th>\n      <th>accZ</th>\n      <th>gyrX</th>\n      <th>gyrY</th>\n      <th>gyrZ</th>\n      <th>magX</th>\n      <th>magY</th>\n      <th>magZ</th>\n      <th>local_time</th>\n    </tr>\n  </thead>\n  <tbody>\n    <tr>\n      <th>0</th>\n      <td>1620022010</td>\n      <td>-5.509766</td>\n      <td>-2.220703</td>\n      <td>5.208984</td>\n      <td>3.417969</td>\n      <td>16.113281</td>\n      <td>-30.944824</td>\n      <td>-0.175195</td>\n      <td>0.006348</td>\n      <td>0.060303</td>\n      <td>2021/05/03 06:06:50</td>\n    </tr>\n    <tr>\n      <th>1</th>\n      <td>1620022010</td>\n      <td>-5.533203</td>\n      <td>-2.210938</td>\n      <td>5.205078</td>\n      <td>-15.380859</td>\n      <td>22.277832</td>\n      <td>-27.893066</td>\n      <td>-0.175195</td>\n      <td>0.006348</td>\n      <td>0.060303</td>\n      <td>2021/05/03 06:06:50</td>\n    </tr>\n    <tr>\n      <th>2</th>\n      <td>1620022010</td>\n      <td>-5.591797</td>\n      <td>-2.097656</td>\n      <td>5.251953</td>\n      <td>-28.564453</td>\n      <td>27.282715</td>\n      <td>-22.155762</td>\n      <td>-0.175195</td>\n      <td>0.006348</td>\n      <td>0.060303</td>\n      <td>2021/05/03 06:06:50</td>\n    </tr>\n    <tr>\n      <th>3</th>\n      <td>1620022011</td>\n      <td>-5.517578</td>\n      <td>-2.107422</td>\n      <td>5.220703</td>\n      <td>-43.029785</td>\n      <td>37.841797</td>\n      <td>-6.103516</td>\n      <td>-0.175195</td>\n      <td>0.006348</td>\n      <td>0.060303</td>\n      <td>2021/05/03 06:06:50</td>\n    </tr>\n    <tr>\n      <th>4</th>\n      <td>1620022011</td>\n      <td>-5.562500</td>\n      <td>-2.152344</td>\n      <td>5.306641</td>\n      <td>-57.617188</td>\n      <td>41.503906</td>\n      <td>12.451172</td>\n      <td>-0.175195</td>\n      <td>0.006348</td>\n      <td>0.060303</td>\n      <td>2021/05/03 06:06:50</td>\n    </tr>\n  </tbody>\n</table>\n</div>"
                    },
                    "metadata": {}
                }
            ]
        },
        {
            "metadata": {},
            "cell_type": "code",
            "source": "\ncell_nos =[]\ncell_nos = list(map(int,input(\"Enter cell no :\").strip().split(\" \")))\nlabel = int(input(\"Enter label : \"))\ndiff =cell_nos[1] - cell_nos[0]",
            "execution_count": 71,
            "outputs": [
                {
                    "output_type": "stream",
                    "name": "stdout",
                    "text": "Enter cell no :5 25\nEnter label : 5\n"
                }
            ]
        },
        {
            "metadata": {},
            "cell_type": "code",
            "source": "for i in range(rows):\n    df['Added_label']= 0",
            "execution_count": 72,
            "outputs": []
        },
        {
            "metadata": {},
            "cell_type": "code",
            "source": "start = cell_nos[0]\nfor i in range(diff+1):\n    df.loc[start,'Added_label'] = label\n    start =start + 1",
            "execution_count": 74,
            "outputs": []
        },
        {
            "metadata": {},
            "cell_type": "code",
            "source": "df.head(20)",
            "execution_count": 75,
            "outputs": [
                {
                    "output_type": "execute_result",
                    "execution_count": 75,
                    "data": {
                        "text/plain": "          time      accX      accY      accZ       gyrX       gyrY       gyrZ  \\\n0   1620022010 -5.509766 -2.220703  5.208984   3.417969  16.113281 -30.944824   \n1   1620022010 -5.533203 -2.210938  5.205078 -15.380859  22.277832 -27.893066   \n2   1620022010 -5.591797 -2.097656  5.251953 -28.564453  27.282715 -22.155762   \n3   1620022011 -5.517578 -2.107422  5.220703 -43.029785  37.841797  -6.103516   \n4   1620022011 -5.562500 -2.152344  5.306641 -57.617188  41.503906  12.451172   \n5   1620022011 -5.582031 -2.158203  5.263672 -62.561035  40.954590  28.259277   \n6   1620022010 -5.574219 -2.148438  5.269531 -77.941894  30.395508  39.855957   \n7   1620022010 -5.558594 -2.216797  5.332031 -80.444336  31.250000  42.236328   \n8   1620022010 -5.482422 -2.220703  5.378906 -74.218750  37.841797  44.128418   \n9   1620022010 -5.458984 -2.220703  5.402344 -69.274902  39.245605  43.212891   \n10  1620022010 -5.457031 -2.234375  5.373047 -55.236816  36.315918  32.714844   \n11  1620022010 -5.484375 -2.232422  5.427734 -45.471191  28.259277  26.062012   \n12  1620022010 -5.488281 -2.207031  5.460938 -29.052734  21.545410  17.456055   \n13  1620022010 -5.416016 -2.144531  5.439453 -19.409180  14.526367  15.441895   \n14  1620022010 -5.431641 -2.240234  5.478516  -2.197266  10.131836   9.643555   \n15  1620022010 -5.443359 -2.220703  5.429688  14.831543  -1.647949  -2.990723   \n16  1620022010 -5.429688 -2.189453  5.412109  26.306152  -1.708984  -7.995605   \n17  1620022010 -5.435547 -2.207031  5.423828  33.874512  -0.427246 -16.601562   \n18  1620022010 -5.457031 -2.263672  5.328125  43.029785  -9.155273 -24.414062   \n19  1620022010 -5.453125 -2.154297  5.318359  46.142578  -7.507324 -31.066895   \n\n        magX      magY      magZ           local_time  Added_label  \n0  -0.175195  0.006348  0.060303  2021/05/03 06:06:50            0  \n1  -0.175195  0.006348  0.060303  2021/05/03 06:06:50            0  \n2  -0.175195  0.006348  0.060303  2021/05/03 06:06:50            0  \n3  -0.175195  0.006348  0.060303  2021/05/03 06:06:50            0  \n4  -0.175195  0.006348  0.060303  2021/05/03 06:06:50            0  \n5  -0.175195  0.006348  0.060303  2021/05/03 06:06:50            5  \n6  -0.175195  0.006348  0.060303  2021/05/03 06:06:50            5  \n7  -0.175195  0.006348  0.060303  2021/05/03 06:06:50            5  \n8  -0.175195  0.006348  0.060303  2021/05/03 06:06:50            5  \n9  -0.175195  0.006348  0.060303  2021/05/03 06:06:50            5  \n10 -0.175195  0.006348  0.060303  2021/05/03 06:06:50            5  \n11 -0.175195  0.006348  0.060303  2021/05/03 06:06:50            5  \n12 -0.175195  0.006348  0.060303  2021/05/03 06:06:50            5  \n13 -0.175195  0.006348  0.060303  2021/05/03 06:06:50            5  \n14 -0.175195  0.006348  0.060303  2021/05/03 06:06:50            5  \n15 -0.175195  0.006348  0.060303  2021/05/03 06:06:50            5  \n16 -0.175195  0.006348  0.060303  2021/05/03 06:06:50            5  \n17 -0.175195  0.006348  0.060303  2021/05/03 06:06:50            5  \n18 -0.175195  0.006348  0.060303  2021/05/03 06:06:50            5  \n19 -0.175195  0.006348  0.060303  2021/05/03 06:06:50            5  ",
                        "text/html": "<div>\n<style scoped>\n    .dataframe tbody tr th:only-of-type {\n        vertical-align: middle;\n    }\n\n    .dataframe tbody tr th {\n        vertical-align: top;\n    }\n\n    .dataframe thead th {\n        text-align: right;\n    }\n</style>\n<table border=\"1\" class=\"dataframe\">\n  <thead>\n    <tr style=\"text-align: right;\">\n      <th></th>\n      <th>time</th>\n      <th>accX</th>\n      <th>accY</th>\n      <th>accZ</th>\n      <th>gyrX</th>\n      <th>gyrY</th>\n      <th>gyrZ</th>\n      <th>magX</th>\n      <th>magY</th>\n      <th>magZ</th>\n      <th>local_time</th>\n      <th>Added_label</th>\n    </tr>\n  </thead>\n  <tbody>\n    <tr>\n      <th>0</th>\n      <td>1620022010</td>\n      <td>-5.509766</td>\n      <td>-2.220703</td>\n      <td>5.208984</td>\n      <td>3.417969</td>\n      <td>16.113281</td>\n      <td>-30.944824</td>\n      <td>-0.175195</td>\n      <td>0.006348</td>\n      <td>0.060303</td>\n      <td>2021/05/03 06:06:50</td>\n      <td>0</td>\n    </tr>\n    <tr>\n      <th>1</th>\n      <td>1620022010</td>\n      <td>-5.533203</td>\n      <td>-2.210938</td>\n      <td>5.205078</td>\n      <td>-15.380859</td>\n      <td>22.277832</td>\n      <td>-27.893066</td>\n      <td>-0.175195</td>\n      <td>0.006348</td>\n      <td>0.060303</td>\n      <td>2021/05/03 06:06:50</td>\n      <td>0</td>\n    </tr>\n    <tr>\n      <th>2</th>\n      <td>1620022010</td>\n      <td>-5.591797</td>\n      <td>-2.097656</td>\n      <td>5.251953</td>\n      <td>-28.564453</td>\n      <td>27.282715</td>\n      <td>-22.155762</td>\n      <td>-0.175195</td>\n      <td>0.006348</td>\n      <td>0.060303</td>\n      <td>2021/05/03 06:06:50</td>\n      <td>0</td>\n    </tr>\n    <tr>\n      <th>3</th>\n      <td>1620022011</td>\n      <td>-5.517578</td>\n      <td>-2.107422</td>\n      <td>5.220703</td>\n      <td>-43.029785</td>\n      <td>37.841797</td>\n      <td>-6.103516</td>\n      <td>-0.175195</td>\n      <td>0.006348</td>\n      <td>0.060303</td>\n      <td>2021/05/03 06:06:50</td>\n      <td>0</td>\n    </tr>\n    <tr>\n      <th>4</th>\n      <td>1620022011</td>\n      <td>-5.562500</td>\n      <td>-2.152344</td>\n      <td>5.306641</td>\n      <td>-57.617188</td>\n      <td>41.503906</td>\n      <td>12.451172</td>\n      <td>-0.175195</td>\n      <td>0.006348</td>\n      <td>0.060303</td>\n      <td>2021/05/03 06:06:50</td>\n      <td>0</td>\n    </tr>\n    <tr>\n      <th>5</th>\n      <td>1620022011</td>\n      <td>-5.582031</td>\n      <td>-2.158203</td>\n      <td>5.263672</td>\n      <td>-62.561035</td>\n      <td>40.954590</td>\n      <td>28.259277</td>\n      <td>-0.175195</td>\n      <td>0.006348</td>\n      <td>0.060303</td>\n      <td>2021/05/03 06:06:50</td>\n      <td>5</td>\n    </tr>\n    <tr>\n      <th>6</th>\n      <td>1620022010</td>\n      <td>-5.574219</td>\n      <td>-2.148438</td>\n      <td>5.269531</td>\n      <td>-77.941894</td>\n      <td>30.395508</td>\n      <td>39.855957</td>\n      <td>-0.175195</td>\n      <td>0.006348</td>\n      <td>0.060303</td>\n      <td>2021/05/03 06:06:50</td>\n      <td>5</td>\n    </tr>\n    <tr>\n      <th>7</th>\n      <td>1620022010</td>\n      <td>-5.558594</td>\n      <td>-2.216797</td>\n      <td>5.332031</td>\n      <td>-80.444336</td>\n      <td>31.250000</td>\n      <td>42.236328</td>\n      <td>-0.175195</td>\n      <td>0.006348</td>\n      <td>0.060303</td>\n      <td>2021/05/03 06:06:50</td>\n      <td>5</td>\n    </tr>\n    <tr>\n      <th>8</th>\n      <td>1620022010</td>\n      <td>-5.482422</td>\n      <td>-2.220703</td>\n      <td>5.378906</td>\n      <td>-74.218750</td>\n      <td>37.841797</td>\n      <td>44.128418</td>\n      <td>-0.175195</td>\n      <td>0.006348</td>\n      <td>0.060303</td>\n      <td>2021/05/03 06:06:50</td>\n      <td>5</td>\n    </tr>\n    <tr>\n      <th>9</th>\n      <td>1620022010</td>\n      <td>-5.458984</td>\n      <td>-2.220703</td>\n      <td>5.402344</td>\n      <td>-69.274902</td>\n      <td>39.245605</td>\n      <td>43.212891</td>\n      <td>-0.175195</td>\n      <td>0.006348</td>\n      <td>0.060303</td>\n      <td>2021/05/03 06:06:50</td>\n      <td>5</td>\n    </tr>\n    <tr>\n      <th>10</th>\n      <td>1620022010</td>\n      <td>-5.457031</td>\n      <td>-2.234375</td>\n      <td>5.373047</td>\n      <td>-55.236816</td>\n      <td>36.315918</td>\n      <td>32.714844</td>\n      <td>-0.175195</td>\n      <td>0.006348</td>\n      <td>0.060303</td>\n      <td>2021/05/03 06:06:50</td>\n      <td>5</td>\n    </tr>\n    <tr>\n      <th>11</th>\n      <td>1620022010</td>\n      <td>-5.484375</td>\n      <td>-2.232422</td>\n      <td>5.427734</td>\n      <td>-45.471191</td>\n      <td>28.259277</td>\n      <td>26.062012</td>\n      <td>-0.175195</td>\n      <td>0.006348</td>\n      <td>0.060303</td>\n      <td>2021/05/03 06:06:50</td>\n      <td>5</td>\n    </tr>\n    <tr>\n      <th>12</th>\n      <td>1620022010</td>\n      <td>-5.488281</td>\n      <td>-2.207031</td>\n      <td>5.460938</td>\n      <td>-29.052734</td>\n      <td>21.545410</td>\n      <td>17.456055</td>\n      <td>-0.175195</td>\n      <td>0.006348</td>\n      <td>0.060303</td>\n      <td>2021/05/03 06:06:50</td>\n      <td>5</td>\n    </tr>\n    <tr>\n      <th>13</th>\n      <td>1620022010</td>\n      <td>-5.416016</td>\n      <td>-2.144531</td>\n      <td>5.439453</td>\n      <td>-19.409180</td>\n      <td>14.526367</td>\n      <td>15.441895</td>\n      <td>-0.175195</td>\n      <td>0.006348</td>\n      <td>0.060303</td>\n      <td>2021/05/03 06:06:50</td>\n      <td>5</td>\n    </tr>\n    <tr>\n      <th>14</th>\n      <td>1620022010</td>\n      <td>-5.431641</td>\n      <td>-2.240234</td>\n      <td>5.478516</td>\n      <td>-2.197266</td>\n      <td>10.131836</td>\n      <td>9.643555</td>\n      <td>-0.175195</td>\n      <td>0.006348</td>\n      <td>0.060303</td>\n      <td>2021/05/03 06:06:50</td>\n      <td>5</td>\n    </tr>\n    <tr>\n      <th>15</th>\n      <td>1620022010</td>\n      <td>-5.443359</td>\n      <td>-2.220703</td>\n      <td>5.429688</td>\n      <td>14.831543</td>\n      <td>-1.647949</td>\n      <td>-2.990723</td>\n      <td>-0.175195</td>\n      <td>0.006348</td>\n      <td>0.060303</td>\n      <td>2021/05/03 06:06:50</td>\n      <td>5</td>\n    </tr>\n    <tr>\n      <th>16</th>\n      <td>1620022010</td>\n      <td>-5.429688</td>\n      <td>-2.189453</td>\n      <td>5.412109</td>\n      <td>26.306152</td>\n      <td>-1.708984</td>\n      <td>-7.995605</td>\n      <td>-0.175195</td>\n      <td>0.006348</td>\n      <td>0.060303</td>\n      <td>2021/05/03 06:06:50</td>\n      <td>5</td>\n    </tr>\n    <tr>\n      <th>17</th>\n      <td>1620022010</td>\n      <td>-5.435547</td>\n      <td>-2.207031</td>\n      <td>5.423828</td>\n      <td>33.874512</td>\n      <td>-0.427246</td>\n      <td>-16.601562</td>\n      <td>-0.175195</td>\n      <td>0.006348</td>\n      <td>0.060303</td>\n      <td>2021/05/03 06:06:50</td>\n      <td>5</td>\n    </tr>\n    <tr>\n      <th>18</th>\n      <td>1620022010</td>\n      <td>-5.457031</td>\n      <td>-2.263672</td>\n      <td>5.328125</td>\n      <td>43.029785</td>\n      <td>-9.155273</td>\n      <td>-24.414062</td>\n      <td>-0.175195</td>\n      <td>0.006348</td>\n      <td>0.060303</td>\n      <td>2021/05/03 06:06:50</td>\n      <td>5</td>\n    </tr>\n    <tr>\n      <th>19</th>\n      <td>1620022010</td>\n      <td>-5.453125</td>\n      <td>-2.154297</td>\n      <td>5.318359</td>\n      <td>46.142578</td>\n      <td>-7.507324</td>\n      <td>-31.066895</td>\n      <td>-0.175195</td>\n      <td>0.006348</td>\n      <td>0.060303</td>\n      <td>2021/05/03 06:06:50</td>\n      <td>5</td>\n    </tr>\n  </tbody>\n</table>\n</div>"
                    },
                    "metadata": {}
                }
            ]
        },
        {
            "metadata": {},
            "cell_type": "code",
            "source": "",
            "execution_count": null,
            "outputs": []
        }
    ],
    "metadata": {
        "kernelspec": {
            "name": "python3",
            "display_name": "Python 3.7",
            "language": "python"
        },
        "language_info": {
            "name": "python",
            "version": "3.7.10",
            "mimetype": "text/x-python",
            "codemirror_mode": {
                "name": "ipython",
                "version": 3
            },
            "pygments_lexer": "ipython3",
            "nbconvert_exporter": "python",
            "file_extension": ".py"
        }
    },
    "nbformat": 4,
    "nbformat_minor": 1
}