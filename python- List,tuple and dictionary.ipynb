{
    "cells": [
        {
            "metadata": {
                "collapsed": true
            },
            "cell_type": "markdown",
            "source": "# Python List"
        },
        {
            "metadata": {},
            "cell_type": "markdown",
            "source": "### 1. list can store different types of data\n### 2. created with the help of []\n### 3. can store duplicate value\n### 4. empty list can be created as: var=[] and we can add values with the help of append()\n### 5. list index start with index 0."
        },
        {
            "metadata": {},
            "cell_type": "code",
            "source": "data=['shital',123,12.4,0,12,4,4,4]",
            "execution_count": 2,
            "outputs": []
        },
        {
            "metadata": {},
            "cell_type": "code",
            "source": "data",
            "execution_count": 3,
            "outputs": [
                {
                    "output_type": "execute_result",
                    "execution_count": 3,
                    "data": {
                        "text/plain": "['shital', 123, 12.4, 0, 12, 4, 4, 4]"
                    },
                    "metadata": {}
                }
            ]
        },
        {
            "metadata": {},
            "cell_type": "code",
            "source": "data[:3]",
            "execution_count": 4,
            "outputs": [
                {
                    "output_type": "execute_result",
                    "execution_count": 4,
                    "data": {
                        "text/plain": "['shital', 123, 12.4]"
                    },
                    "metadata": {}
                }
            ]
        },
        {
            "metadata": {},
            "cell_type": "code",
            "source": "data[2:]",
            "execution_count": 5,
            "outputs": [
                {
                    "output_type": "execute_result",
                    "execution_count": 5,
                    "data": {
                        "text/plain": "[12.4, 0, 12, 4, 4, 4]"
                    },
                    "metadata": {}
                }
            ]
        },
        {
            "metadata": {},
            "cell_type": "code",
            "source": "data[3:5]",
            "execution_count": 6,
            "outputs": [
                {
                    "output_type": "execute_result",
                    "execution_count": 6,
                    "data": {
                        "text/plain": "[0, 12]"
                    },
                    "metadata": {}
                }
            ]
        },
        {
            "metadata": {},
            "cell_type": "code",
            "source": "data[:]",
            "execution_count": 7,
            "outputs": [
                {
                    "output_type": "execute_result",
                    "execution_count": 7,
                    "data": {
                        "text/plain": "['shital', 123, 12.4, 0, 12, 4, 4, 4]"
                    },
                    "metadata": {}
                }
            ]
        },
        {
            "metadata": {},
            "cell_type": "code",
            "source": "data.append('siya')",
            "execution_count": 8,
            "outputs": []
        },
        {
            "metadata": {},
            "cell_type": "code",
            "source": "data",
            "execution_count": 9,
            "outputs": [
                {
                    "output_type": "execute_result",
                    "execution_count": 9,
                    "data": {
                        "text/plain": "['shital', 123, 12.4, 0, 12, 4, 4, 4, 'siya']"
                    },
                    "metadata": {}
                }
            ]
        },
        {
            "metadata": {},
            "cell_type": "markdown",
            "source": "### 6. You can update single or multiple elements of lists by giving the slice on the left-hand side of the assignment operator, \n###     and you can add to elements in a list with the append() method."
        },
        {
            "metadata": {},
            "cell_type": "code",
            "source": "data[2]='kumar'\ndata\n",
            "execution_count": 13,
            "outputs": [
                {
                    "output_type": "execute_result",
                    "execution_count": 13,
                    "data": {
                        "text/plain": "['shital', 123, 'kumar', 0, 12, 4, 4, 4, 'siya']"
                    },
                    "metadata": {}
                }
            ]
        },
        {
            "metadata": {},
            "cell_type": "markdown",
            "source": "### 7. we can delete the list elements with the help of del statement"
        },
        {
            "metadata": {},
            "cell_type": "code",
            "source": "del data[2]",
            "execution_count": 14,
            "outputs": []
        },
        {
            "metadata": {},
            "cell_type": "code",
            "source": "data",
            "execution_count": 15,
            "outputs": [
                {
                    "output_type": "execute_result",
                    "execution_count": 15,
                    "data": {
                        "text/plain": "['shital', 123, 0, 12, 4, 4, 4, 'siya']"
                    },
                    "metadata": {}
                }
            ]
        },
        {
            "metadata": {},
            "cell_type": "code",
            "source": "### 8. list operation\n### 8.1 len()",
            "execution_count": 16,
            "outputs": []
        },
        {
            "metadata": {},
            "cell_type": "code",
            "source": "print(len(data))",
            "execution_count": 18,
            "outputs": [
                {
                    "output_type": "stream",
                    "text": "8\n",
                    "name": "stdout"
                }
            ]
        },
        {
            "metadata": {},
            "cell_type": "markdown",
            "source": "### 8.2 concateneting two string"
        },
        {
            "metadata": {},
            "cell_type": "code",
            "source": "\ndata2=['bhairavi','elephant',23]\ndata3=data+data2\nprint(data3)",
            "execution_count": 19,
            "outputs": [
                {
                    "output_type": "stream",
                    "text": "['shital', 123, 0, 12, 4, 4, 4, 'siya', 'bhairavi', 'elephant', 23]\n",
                    "name": "stdout"
                }
            ]
        },
        {
            "metadata": {},
            "cell_type": "markdown",
            "source": "### 8.3 Repetition of string using *"
        },
        {
            "metadata": {},
            "cell_type": "code",
            "source": "print(data2*2)",
            "execution_count": 21,
            "outputs": [
                {
                    "output_type": "stream",
                    "text": "['bhairavi', 'elephant', 23, 'bhairavi', 'elephant', 23]\n",
                    "name": "stdout"
                }
            ]
        },
        {
            "metadata": {},
            "cell_type": "markdown",
            "source": "### 8.4 Membership operator"
        },
        {
            "metadata": {},
            "cell_type": "code",
            "source": "if 'bhairavi' in data2:print(\"Bhairavi present in data2\")\nelse: print(\"Bhairavi present in data2\")",
            "execution_count": null,
            "outputs": []
        }
    ],
    "metadata": {
        "kernelspec": {
            "name": "python3",
            "display_name": "Python 3.6",
            "language": "python"
        },
        "language_info": {
            "name": "python",
            "version": "3.6.9",
            "mimetype": "text/x-python",
            "codemirror_mode": {
                "name": "ipython",
                "version": 3
            },
            "pygments_lexer": "ipython3",
            "nbconvert_exporter": "python",
            "file_extension": ".py"
        }
    },
    "nbformat": 4,
    "nbformat_minor": 1
}